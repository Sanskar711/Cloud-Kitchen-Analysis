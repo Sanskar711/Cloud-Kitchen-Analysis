{
 "cells": [
  {
   "cell_type": "markdown",
   "id": "a7eb9316-91b3-46e7-b9c6-3b314b899817",
   "metadata": {},
   "source": [
    "## Question 1"
   ]
  },
  {
   "cell_type": "markdown",
   "id": "f1f79409-c56f-40b7-b190-767dc80a23c6",
   "metadata": {},
   "source": [
    "#### a.  dC/dQ = 6*Q+4 and dC/dQ = 6 > 0 \n",
    "####     on equating dC/dQ = 0 we get value of Q for which Cost is minimum which is -2/3"
   ]
  },
  {
   "cell_type": "code",
   "execution_count": 6,
   "id": "ef5f99c5-96a6-4b77-8d53-5131501813e3",
   "metadata": {},
   "outputs": [],
   "source": [
    "from scipy.optimize import minimize"
   ]
  },
  {
   "cell_type": "code",
   "execution_count": 7,
   "id": "018e3848-d508-46a6-81fe-a6cae044d233",
   "metadata": {},
   "outputs": [],
   "source": [
    "def cost_fn(Q):\n",
    "    return 3*Q**2 +4*Q +2"
   ]
  },
  {
   "cell_type": "code",
   "execution_count": 8,
   "id": "d0ce1eb7-12fa-4699-b102-225fbdedeea4",
   "metadata": {},
   "outputs": [],
   "source": [
    "initial_guess =0.0"
   ]
  },
  {
   "cell_type": "code",
   "execution_count": 107,
   "id": "7a244c71-3c83-43be-8fb7-631f51b8bb2d",
   "metadata": {},
   "outputs": [],
   "source": [
    "result = minimize(cost_fn,initial_guess)\n",
    "# print(result)\n",
    "# print(type(result))"
   ]
  },
  {
   "cell_type": "code",
   "execution_count": 15,
   "id": "ca388ae2-77b9-4517-ac64-fbb29f724bec",
   "metadata": {},
   "outputs": [
    {
     "name": "stdout",
     "output_type": "stream",
     "text": [
      "[-0.66666668]\n"
     ]
    }
   ],
   "source": [
    "optimal_Q = result.x"
   ]
  },
  {
   "cell_type": "code",
   "execution_count": 17,
   "id": "2a4d565f-a31c-48b8-8825-e745aadd1ca1",
   "metadata": {},
   "outputs": [
    {
     "name": "stdout",
     "output_type": "stream",
     "text": [
      "Optimal discharge rate :Q [-0.66666668]\n",
      "Minimum cost value: [0.66666667]\n"
     ]
    }
   ],
   "source": [
    "print(\"Optimal discharge rate :Q\" , optimal_Q)\n",
    "print(\"Minimum cost value:\",cost_fn(optimal_Q) )"
   ]
  },
  {
   "cell_type": "markdown",
   "id": "2d4a56b1-a5e2-486b-851a-cd0bfa17b27e",
   "metadata": {},
   "source": [
    "#### c. (i). Yes they are same because the underlying mathematical equation used in numerical minimization method is equating the first derivative of the function wrt to parameter equal to zero.\n",
    "#### (ii). Numerical minimization method are handy while working on large datasets with multiple parameters of observation like while calculating Maximum Likelihood Estimation\n"
   ]
  },
  {
   "cell_type": "markdown",
   "id": "279b3c9d-1ec6-4bc4-8bc0-bc429474700a",
   "metadata": {},
   "source": [
    "## Question 2"
   ]
  },
  {
   "cell_type": "markdown",
   "id": "6d0820d0-15e0-40d1-8101-32a384a94470",
   "metadata": {},
   "source": [
    "#### b."
   ]
  },
  {
   "cell_type": "code",
   "execution_count": 44,
   "id": "1ecba8b5-9911-4111-916c-345bad507173",
   "metadata": {},
   "outputs": [],
   "source": [
    "import numpy as np\n",
    "from scipy.optimize import minimize"
   ]
  },
  {
   "cell_type": "code",
   "execution_count": 55,
   "id": "1345bf79-75b4-436b-8034-75fd535e375d",
   "metadata": {},
   "outputs": [
    {
     "name": "stdout",
     "output_type": "stream",
     "text": [
      "7560.0\n"
     ]
    }
   ],
   "source": [
    "R = [6500,7800,8200,7600,6900,7400,7100,8300,8000,7800]\n",
    "print((np.sum(R))/len(R))"
   ]
  },
  {
   "cell_type": "code",
   "execution_count": 57,
   "id": "1f31e8cc-5906-44c9-b417-eccf16a17b9d",
   "metadata": {},
   "outputs": [],
   "source": [
    "def likelihood_fn(sigma):\n",
    "    n = len(R)\n",
    "    lik = n*np.log(sigma) + 1/sigma*(np.sum(R))\n",
    "    return lik"
   ]
  },
  {
   "cell_type": "code",
   "execution_count": 67,
   "id": "c01f00d4-bbb8-4066-9058-cd3a1f96694f",
   "metadata": {},
   "outputs": [],
   "source": [
    "initial_sigma = 1.0"
   ]
  },
  {
   "cell_type": "code",
   "execution_count": 68,
   "id": "f31ce83d-8a47-4833-80c8-2376fdf25070",
   "metadata": {},
   "outputs": [],
   "source": [
    "result = minimize(likelihood_fn,initial_sigma)"
   ]
  },
  {
   "cell_type": "code",
   "execution_count": 69,
   "id": "a8639bfe-4c5b-4537-b7e4-29c92732b58a",
   "metadata": {},
   "outputs": [
    {
     "name": "stdout",
     "output_type": "stream",
     "text": [
      "[7546.34692561]\n"
     ]
    }
   ],
   "source": [
    "print(result.x)"
   ]
  },
  {
   "cell_type": "markdown",
   "id": "9034bd9a-9727-45b6-88f6-246e33cde1bb",
   "metadata": {},
   "source": [
    "## Question 3"
   ]
  },
  {
   "cell_type": "code",
   "execution_count": null,
   "id": "20c8a670-1a3b-4753-9862-d6dc99ac9b11",
   "metadata": {},
   "outputs": [],
   "source": [
    "import numpy as np\n",
    "from scipy.optimize import minimize"
   ]
  },
  {
   "cell_type": "code",
   "execution_count": 98,
   "id": "b5083306-0c29-4d92-b949-21599a93cca0",
   "metadata": {},
   "outputs": [],
   "source": [
    "#dataset\n",
    "x1 = np.array([20,50,80,120,30,40,100,60])\n",
    "x2 = np.array([25,30,32,35,28,26,33,29])\n",
    "y = np.array([500,1200,1800,3500,7500,950,2900,1700])\n",
    "# print(len(x1), len(x2), len(y))"
   ]
  },
  {
   "cell_type": "markdown",
   "id": "e36d1c1b-3acb-4ad9-aa9d-ed647bcefc5a",
   "metadata": {},
   "source": [
    "#### a."
   ]
  },
  {
   "cell_type": "code",
   "execution_count": 99,
   "id": "75063993-ad01-421d-875f-fd7e9b217c96",
   "metadata": {},
   "outputs": [],
   "source": [
    "def mse(beta,x1,x2,y):\n",
    "    # print(beta)\n",
    "    beta0, beta1, beta2, beta3 = beta\n",
    "    # print(beta0)\n",
    "    y_pred = beta0 + beta1*x1 + beta2*x2 + beta3*(x1**2)\n",
    "    loss = np.mean((y-y_pred)**2)\n",
    "    return loss"
   ]
  },
  {
   "cell_type": "markdown",
   "id": "31562ce4-47a2-4d28-889e-7da256e46214",
   "metadata": {},
   "source": [
    "#### b."
   ]
  },
  {
   "cell_type": "code",
   "execution_count": 100,
   "id": "dbcbb29e-0bee-4f42-9f96-0ef4b13a0031",
   "metadata": {},
   "outputs": [
    {
     "name": "stdout",
     "output_type": "stream",
     "text": [
      "[0.5, 0.5, 0.5, 0.5]\n"
     ]
    }
   ],
   "source": [
    "initial_betas = [0.5, 0.5, 0.5, 0.5]\n",
    "print(initial_betas)"
   ]
  },
  {
   "cell_type": "code",
   "execution_count": 101,
   "id": "ae7042bf-c999-4ea3-a9c4-fc8df480a6b1",
   "metadata": {},
   "outputs": [],
   "source": [
    "result = minimize(mse,initial_betas,args=(x1,x2,y))\n",
    "optimal_beta0,optimal_beta1,optimal_beta2,optimal_beta3 = result.x"
   ]
  },
  {
   "cell_type": "markdown",
   "id": "a6672a64-74af-45b9-9894-66b89f1d99b0",
   "metadata": {},
   "source": [
    "#### c."
   ]
  },
  {
   "cell_type": "code",
   "execution_count": 102,
   "id": "82d7d7fb-1756-4306-bea9-881740fbee63",
   "metadata": {},
   "outputs": [
    {
     "name": "stdout",
     "output_type": "stream",
     "text": [
      "Optimal intercept (beta0): -24165.90540332937\n"
     ]
    }
   ],
   "source": [
    "print(\"Optimal intercept (beta0):\", optimal_beta0)"
   ]
  },
  {
   "cell_type": "code",
   "execution_count": 103,
   "id": "3847e89e-2aec-43c2-955c-4efb26a68cb9",
   "metadata": {},
   "outputs": [
    {
     "name": "stdout",
     "output_type": "stream",
     "text": [
      "Optimal_beta1: -223.5176821028003\n"
     ]
    }
   ],
   "source": [
    "print(\"Optimal_beta1:\", optimal_beta1)"
   ]
  },
  {
   "cell_type": "code",
   "execution_count": 104,
   "id": "e1c2490f-9867-4c76-976e-e853ebbc0d0d",
   "metadata": {},
   "outputs": [
    {
     "name": "stdout",
     "output_type": "stream",
     "text": [
      "Optimal_beta2: 1232.1897178763945\n"
     ]
    }
   ],
   "source": [
    "print(\"Optimal_beta2:\", optimal_beta2)"
   ]
  },
  {
   "cell_type": "code",
   "execution_count": 105,
   "id": "3712cf37-de0c-42b9-b3ae-7a42947741fe",
   "metadata": {},
   "outputs": [
    {
     "name": "stdout",
     "output_type": "stream",
     "text": [
      "Optimal_beta3: 0.8008742998097035\n"
     ]
    }
   ],
   "source": [
    "print(\"Optimal_beta3:\", optimal_beta3)"
   ]
  },
  {
   "cell_type": "code",
   "execution_count": 106,
   "id": "39becd9a-4046-4f78-b8ec-7c015fe545e5",
   "metadata": {},
   "outputs": [
    {
     "name": "stdout",
     "output_type": "stream",
     "text": [
      "Minimized MSE:  2728667.844249695\n"
     ]
    }
   ],
   "source": [
    "print(\"Minimized MSE: \", result.fun)"
   ]
  }
 ],
 "metadata": {
  "kernelspec": {
   "display_name": "Python 3 (ipykernel)",
   "language": "python",
   "name": "python3"
  },
  "language_info": {
   "codemirror_mode": {
    "name": "ipython",
    "version": 3
   },
   "file_extension": ".py",
   "mimetype": "text/x-python",
   "name": "python",
   "nbconvert_exporter": "python",
   "pygments_lexer": "ipython3",
   "version": "3.12.4"
  }
 },
 "nbformat": 4,
 "nbformat_minor": 5
}
