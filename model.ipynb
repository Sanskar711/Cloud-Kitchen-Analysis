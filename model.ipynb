{
 "cells": [
  {
   "cell_type": "markdown",
   "id": "5bda17e4",
   "metadata": {},
   "source": [
    "## Installing the Modules"
   ]
  },
  {
   "cell_type": "code",
   "execution_count": null,
   "id": "af27db80-d9a7-4fab-8dc5-3ae1385b7884",
   "metadata": {},
   "outputs": [],
   "source": [
    "%pip install statsmodels \n",
    "%pip install pandas \n",
    "%pip install numpy \n",
    "%pip install matplotlib\n",
    "%pip install kagglehub\n",
    "%pip install ee\n",
    "%pip install tools"
   ]
  },
  {
   "cell_type": "code",
   "execution_count": 5,
   "id": "c7094ff0",
   "metadata": {},
   "outputs": [],
   "source": [
    "# import ee\n",
    "import pandas as pd\n",
    "import matplotlib.pyplot as plt"
   ]
  },
  {
   "cell_type": "markdown",
   "id": "ff3afcd4",
   "metadata": {},
   "source": [
    "## Kaggle Hub login"
   ]
  },
  {
   "cell_type": "code",
   "execution_count": null,
   "id": "7673166f",
   "metadata": {},
   "outputs": [],
   "source": [
    "import kagglehub\n",
    "kagglehub.login()"
   ]
  },
  {
   "cell_type": "code",
   "execution_count": null,
   "id": "6b00822d",
   "metadata": {},
   "outputs": [],
   "source": [
    "# Authenticate\n",
    "# ee.Authenticate()\n",
    "# ee.Initialize(project='ee-cloudkitchen')"
   ]
  },
  {
   "cell_type": "code",
   "execution_count": null,
   "id": "c75762b0-989d-4df7-ac3f-48e7c34d87d8",
   "metadata": {},
   "outputs": [],
   "source": [
    "# import pandas as pd\n",
    "# import matplotlib.pyplot as plt\n",
    "\n",
    "# # Load the data\n",
    "# # data = pd.read_csv('/Users/apple/.cache/kagglehub/datasets/himanshupoddar/zomato-bangalore-restaurants/versions/1/zomato.csv', parse_dates=['date'], index_col='date')\n",
    "# data = pd.read_csv('/Users/apple/.cache/kagglehub/datasets/himanshupoddar/zomato-bangalore-restaurants/versions/1/zomato.csv')\n",
    "# # Check for missing values\n",
    "# print(data.isnull().sum())\n",
    "\n",
    "# # Fill missing values (if any) with forward fill or other methods\n",
    "# data.ffill()\n",
    "\n",
    "# # Display first few rows to check the data\n",
    "# print(data.head())\n",
    "# # Plot sales and rainfall over time to visualize their trends\n",
    "# # plt.figure(figsize=(10, 6))\n",
    "# # plt.plot(data['sales'], label='Sales')\n",
    "# # plt.plot(data['rainfall'], label='Rainfall', color='green')\n",
    "# # plt.title('Sales and Rainfall Over Time')\n",
    "# # plt.xlabel('Date')\n",
    "# # plt.ylabel('Values')\n",
    "# # plt.legend()\n",
    "# # plt.show()\n"
   ]
  },
  {
   "cell_type": "markdown",
   "id": "736686f4",
   "metadata": {},
   "source": [
    "## Downloading the data set"
   ]
  },
  {
   "cell_type": "code",
   "execution_count": null,
   "id": "8631ab25",
   "metadata": {},
   "outputs": [],
   "source": [
    "path = kagglehub.dataset_download(\"vananhtong/food-delivery-dataset\")\n",
    "\n",
    "print(\"Path to dataset files:\", path)"
   ]
  },
  {
   "cell_type": "markdown",
   "id": "2d146fdc",
   "metadata": {},
   "source": [
    "## Loading the data set"
   ]
  },
  {
   "cell_type": "code",
   "execution_count": null,
   "id": "1925f808",
   "metadata": {},
   "outputs": [],
   "source": [
    "\n",
    "# # Load the data\n",
    "# # data = pd.read_csv('/Users/apple/.cache/kagglehub/datasets/himanshupoddar/zomato-bangalore-restaurants/versions/1/zomato.csv', parse_dates=['date'], index_col='date')\n",
    "train_data = pd.read_csv('/Users/apple/.cache/kagglehub/datasets/vananhtong/food-delivery-dataset/versions/1/train_df.csv')\n",
    "test_data = pd.read_csv('/Users/apple/.cache/kagglehub/datasets/vananhtong/food-delivery-dataset/versions/1/test_df.csv')\n",
    "# # Check for missing values\n",
    "# print(train_data.isnull().sum())\n",
    "\n",
    "# # Fill missing values (if any) with forward fill or other methods\n",
    "# train_data.ffill()\n",
    "train_data['Order_Date'] = pd.to_datetime(train_data['Order_Date'], format='%d-%m-%Y', errors='coerce')\n",
    "test_data['Order_Date'] = pd.to_datetime(test_data['Order_Date'], format='%d-%m-%Y', errors='coerce')\n",
    "\n",
    "# # Display first few rows to check the data\n",
    "print(train_data.head())"
   ]
  },
  {
   "cell_type": "code",
   "execution_count": null,
   "id": "b1db0e2f",
   "metadata": {},
   "outputs": [],
   "source": [
    "print(train_data['Order_Date'].max())\n",
    "print(test_data['Order_Date'].max())"
   ]
  },
  {
   "cell_type": "code",
   "execution_count": null,
   "id": "0d3b54dc",
   "metadata": {},
   "outputs": [],
   "source": [
    "print(train_data['Order_Date'].min())\n",
    "print(test_data['Order_Date'].min())"
   ]
  },
  {
   "cell_type": "code",
   "execution_count": null,
   "id": "2ef0d128",
   "metadata": {},
   "outputs": [],
   "source": [
    "train_data.columns\n",
    "test_data.columns"
   ]
  },
  {
   "cell_type": "code",
   "execution_count": null,
   "id": "5ec67a65",
   "metadata": {},
   "outputs": [],
   "source": [
    "unique_lat_long_combinations_train = train_data[['Restaurant_latitude', 'Restaurant_longitude']].drop_duplicates().shape[0]\n",
    "print(unique_lat_long_combinations_train)\n",
    "unique_lat_long_combinations_test = test_data[['Restaurant_latitude', 'Restaurant_longitude']].drop_duplicates().shape[0]\n",
    "print(unique_lat_long_combinations_test)"
   ]
  },
  {
   "cell_type": "markdown",
   "id": "ea8dfe71",
   "metadata": {},
   "source": [
    "## Preprocess the Training data"
   ]
  },
  {
   "cell_type": "code",
   "execution_count": 28,
   "id": "b98f86d7",
   "metadata": {},
   "outputs": [
    {
     "name": "stdout",
     "output_type": "stream",
     "text": [
      "      Restaurant_latitude  Restaurant_longitude Order_Date  Number_of_Orders  \\\n",
      "174              9.957144             76.296783 2022-02-11                 3   \n",
      "175              9.957144             76.296783 2022-02-12                 4   \n",
      "176              9.957144             76.296783 2022-02-13                 6   \n",
      "177              9.957144             76.296783 2022-02-14                 4   \n",
      "178              9.957144             76.296783 2022-02-15                 6   \n",
      "...                   ...                   ...        ...               ...   \n",
      "9545            30.914057             75.839820 2022-02-14                 2   \n",
      "9546            30.914057             75.839820 2022-02-15                 3   \n",
      "9547            30.914057             75.839820 2022-02-16                 6   \n",
      "9548            30.914057             75.839820 2022-02-17                 3   \n",
      "9549            30.914057             75.839820 2022-02-18                 4   \n",
      "\n",
      "      Avg_Delivery_Time  \n",
      "174           21.000000  \n",
      "175           31.500000  \n",
      "176           20.000000  \n",
      "177           23.500000  \n",
      "178           22.833333  \n",
      "...                 ...  \n",
      "9545          43.500000  \n",
      "9546          18.666667  \n",
      "9547          26.833333  \n",
      "9548          23.000000  \n",
      "9549          21.500000  \n",
      "\n",
      "[9376 rows x 5 columns]\n",
      "388\n"
     ]
    }
   ],
   "source": [
    "# Define the latitude and longitude range\n",
    "lat_min, lat_max = 8.4, 37.6\n",
    "long_min, long_max = 68.7, 97.25\n",
    "\n",
    "# Group by Restaurant_latitude, Restaurant_longitude, and Order_Date and count the rows\n",
    "grouped_data_train = train_data.groupby(\n",
    "    ['Restaurant_latitude', 'Restaurant_longitude', 'Order_Date']\n",
    ").agg(\n",
    "    Number_of_Orders=('Time_taken(min)', 'size'),  # Count number of orders\n",
    "    Avg_Delivery_Time=('Time_taken(min)', 'mean')  # Calculate average delivery time\n",
    ").reset_index()\n",
    "# Filter the grouped data for the specified latitude and longitude range\n",
    "filtered_data_train= grouped_data_train[\n",
    "    (grouped_data_train['Restaurant_latitude'] >= lat_min) &\n",
    "    (grouped_data_train['Restaurant_latitude'] <= lat_max) &\n",
    "    (grouped_data_train['Restaurant_longitude'] >= long_min) &\n",
    "    (grouped_data_train['Restaurant_longitude'] <= long_max)\n",
    "]\n",
    "# Display the filtered data\n",
    "print(filtered_data_train)\n",
    "\n",
    "unique_lat_long_combinations_train = filtered_data_train[['Restaurant_latitude', 'Restaurant_longitude']].drop_duplicates().shape[0]\n",
    "print(unique_lat_long_combinations_train)\n"
   ]
  },
  {
   "cell_type": "markdown",
   "id": "42e4d5ae",
   "metadata": {},
   "source": [
    "## Preprocess the Testing Data"
   ]
  },
  {
   "cell_type": "code",
   "execution_count": 29,
   "id": "136cc068",
   "metadata": {},
   "outputs": [
    {
     "name": "stdout",
     "output_type": "stream",
     "text": [
      "      Restaurant_latitude  Restaurant_longitude Order_Date  Number_of_Orders  \\\n",
      "56               9.957144             76.296783 2022-02-11                 1   \n",
      "57               9.957144             76.296783 2022-02-12                 1   \n",
      "58               9.957144             76.296783 2022-02-14                 1   \n",
      "59               9.957144             76.296783 2022-02-18                 1   \n",
      "60               9.959778             76.296106 2022-02-11                 2   \n",
      "...                   ...                   ...        ...               ...   \n",
      "3238            30.905562             75.832841 2022-02-17                 1   \n",
      "3239            30.914057             75.839820 2022-02-11                 2   \n",
      "3240            30.914057             75.839820 2022-02-13                 2   \n",
      "3241            30.914057             75.839820 2022-02-15                 2   \n",
      "3242            30.914057             75.839820 2022-02-17                 2   \n",
      "\n",
      "      Avg_Delivery_Time  \n",
      "56                 20.0  \n",
      "57                 29.0  \n",
      "58                 38.0  \n",
      "59                 24.0  \n",
      "60                 32.0  \n",
      "...                 ...  \n",
      "3238               30.0  \n",
      "3239               33.0  \n",
      "3240               20.0  \n",
      "3241               26.0  \n",
      "3242               22.0  \n",
      "\n",
      "[3187 rows x 5 columns]\n",
      "385\n"
     ]
    }
   ],
   "source": [
    "# Group by Restaurant_latitude, Restaurant_longitude, and Order_Date and count the rows\n",
    "grouped_data_test = test_data.groupby(\n",
    "    ['Restaurant_latitude', 'Restaurant_longitude', 'Order_Date']\n",
    ").agg(\n",
    "    Number_of_Orders=('Time_taken(min)', 'size'),  # Count number of orders\n",
    "    Avg_Delivery_Time=('Time_taken(min)', 'mean')  # Calculate average delivery time\n",
    ").reset_index()\n",
    "# Filter the grouped data for the specified latitude and longitude range\n",
    "filtered_data_test = grouped_data_test[\n",
    "    (grouped_data_test['Restaurant_latitude'] >= lat_min) &\n",
    "    (grouped_data_test['Restaurant_latitude'] <= lat_max) &\n",
    "    (grouped_data_test['Restaurant_longitude'] >= long_min) &\n",
    "    (grouped_data_test['Restaurant_longitude'] <= long_max)\n",
    "]\n",
    "# Display the filtered data\n",
    "print(filtered_data_test)\n",
    "\n",
    "unique_lat_long_combinations_test = filtered_data_test[['Restaurant_latitude', 'Restaurant_longitude']].drop_duplicates().shape[0]\n",
    "print(unique_lat_long_combinations_test)\n"
   ]
  },
  {
   "cell_type": "code",
   "execution_count": 31,
   "id": "8b4f5290",
   "metadata": {},
   "outputs": [
    {
     "name": "stdout",
     "output_type": "stream",
     "text": [
      "     Restaurant_latitude  Restaurant_longitude Order_Date  Number_of_Orders  \\\n",
      "174             9.957144             76.296783 2022-02-11                 3   \n",
      "175             9.957144             76.296783 2022-02-12                 4   \n",
      "176             9.957144             76.296783 2022-02-13                 6   \n",
      "177             9.957144             76.296783 2022-02-14                 4   \n",
      "178             9.957144             76.296783 2022-02-15                 6   \n",
      "179             9.957144             76.296783 2022-02-16                 4   \n",
      "180             9.957144             76.296783 2022-02-17                 4   \n",
      "181             9.957144             76.296783 2022-02-18                 4   \n",
      "\n",
      "     Avg_Delivery_Time  \n",
      "174          21.000000  \n",
      "175          31.500000  \n",
      "176          20.000000  \n",
      "177          23.500000  \n",
      "178          22.833333  \n",
      "179          28.750000  \n",
      "180          29.000000  \n",
      "181          36.250000  \n"
     ]
    },
    {
     "data": {
      "image/png": "[encoded data removed]",
      "text/plain": [
       "<Figure size 1000x600 with 2 Axes>"
      ]
     },
     "metadata": {},
     "output_type": "display_data"
    }
   ],
   "source": [
    "import matplotlib.pyplot as plt\n",
    "\n",
    "# Filtering data for a particular restaurant \n",
    "restaurant_lat = 9.957144\n",
    "restaurant_long = 76.296783 \n",
    "\n",
    "# Filter the data for the selected restaurant\n",
    "restaurant_data_train = filtered_data_train[\n",
    "    (filtered_data_train['Restaurant_latitude'] == restaurant_lat) &\n",
    "    (filtered_data_train['Restaurant_longitude'] == restaurant_long)\n",
    "]\n",
    "# print(restaurant_data_train)\n",
    "# Plotting the double bar graph\n",
    "fig, ax1 = plt.subplots(figsize=(10, 6))\n",
    "\n",
    "# Set the width of bars\n",
    "bar_width = 0.4\n",
    "\n",
    "# Create the bar positions for Order Count and Avg Delivery Time\n",
    "bar_positions = pd.to_datetime(restaurant_data_train['Order_Date'])  # Using dates directly\n",
    "\n",
    "# Plotting Order Count on the left Y-axis\n",
    "ax1.bar(bar_positions, restaurant_data_train['Number_of_Orders'], color='b', width=bar_width, align='center', label='Order Count')\n",
    "ax1.set_xlabel('Order Date')\n",
    "ax1.set_ylabel('Order Count', color='b')\n",
    "ax1.tick_params(axis='y', labelcolor='b')\n",
    "\n",
    "# Rotate the x-axis labels for better readability\n",
    "plt.xticks(rotation=45)\n",
    "\n",
    "# Create another axis for the Avg Delivery Time on the right Y-axis\n",
    "ax2 = ax1.twinx()\n",
    "\n",
    "# Shift the positions for the Avg Delivery Time bars to avoid overlap\n",
    "ax2.bar(bar_positions + pd.Timedelta(days=0.4), restaurant_data_train['Avg_Delivery_Time'], color='g', width=bar_width, align='center', label='Avg Delivery Time')\n",
    "ax2.set_ylabel('Avg Delivery Time (min)', color='g')\n",
    "ax2.tick_params(axis='y', labelcolor='g')\n",
    "\n",
    "# Title and labels\n",
    "plt.title(f'Daily Order Count and Avg Delivery Time for Restaurant ({restaurant_lat}, {restaurant_long})')\n",
    "\n",
    "# Adjust layout and show the plot\n",
    "plt.tight_layout()\n",
    "plt.show()\n"
   ]
  },
  {
   "cell_type": "code",
   "execution_count": null,
   "id": "8d6e9e1c",
   "metadata": {},
   "outputs": [],
   "source": [
    "filtered_data_test.columns"
   ]
  },
  {
   "cell_type": "code",
   "execution_count": null,
   "id": "325dc61d-b257-4008-a3ee-451f9c1c890f",
   "metadata": {},
   "outputs": [],
   "source": [
    "from statsmodels.tsa.stattools import adfuller\n",
    "\n",
    "def check_stationarity(timeseries):\n",
    "    result = adfuller(timeseries)\n",
    "    print('ADF Statistic: %f' % result[0])\n",
    "    print('p-value: %f' % result[1])\n",
    "    print('Critical Values:')\n",
    "    for key, value in result[4].items():\n",
    "        print(f'   {key}: {value}')\n",
    "\n",
    "# Check stationarity for sales data\n",
    "check_stationarity(data['sales'])\n"
   ]
  },
  {
   "cell_type": "code",
   "execution_count": null,
   "id": "70ff4f7a-4b1c-4258-acba-3a306b4bb41d",
   "metadata": {},
   "outputs": [],
   "source": [
    "# Difference the sales data\n",
    "data['sales_diff'] = data['sales'].diff().dropna()\n",
    "\n",
    "# Re-check stationarity after differencing\n",
    "check_stationarity(data['sales_diff'].dropna())\n"
   ]
  },
  {
   "cell_type": "code",
   "execution_count": null,
   "id": "695e99c7-ccc3-4b10-8563-32b92bd1e56c",
   "metadata": {},
   "outputs": [],
   "source": [
    "from statsmodels.tsa.arima.model import ARIMA\n",
    "\n",
    "# Prepare the exogenous variable (rainfall)\n",
    "exog = data[['rainfall']].dropna()\n",
    "\n",
    "# Fit the ARIMAX model with sales as the dependent variable and rainfall as the exogenous variable\n",
    "model = ARIMA(endog=data['sales'], exog=exog, order=(2, 1, 2))  # Adjust (p, d, q) based on ACF/PACF analysis\n",
    "model_fit = model.fit()\n",
    "\n",
    "# Print the model summary\n",
    "print(model_fit.summary())\n"
   ]
  },
  {
   "cell_type": "code",
   "execution_count": null,
   "id": "0292e7d8-7ccc-44a2-9654-a1c56a25305b",
   "metadata": {},
   "outputs": [],
   "source": [
    "from statsmodels.graphics.tsaplots import plot_acf, plot_pacf\n",
    "\n",
    "# ACF and PACF plots to find p and q values\n",
    "plot_acf(data['sales_diff'].dropna(), lags=20)\n",
    "plot_pacf(data['sales_diff'].dropna(), lags=20)\n",
    "plt.show()\n"
   ]
  },
  {
   "cell_type": "code",
   "execution_count": null,
   "id": "9436df33-0700-455e-bc65-457400ed133c",
   "metadata": {},
   "outputs": [],
   "source": [
    "# Forecast sales for the next 30 days using future rainfall data (if available)\n",
    "forecast = model_fit.forecast(steps=30, exog=exog[-30:])\n",
    "\n",
    "# Plot the forecasted sales\n",
    "plt.figure(figsize=(10, 6))\n",
    "plt.plot(data['sales'], label='Observed Sales')\n",
    "plt.plot(pd.date_range(data.index[-1], periods=30, freq='D'), forecast, label='Forecasted Sales', color='red')\n",
    "plt.title('Sales Forecast Based on Rainfall')\n",
    "plt.xlabel('Date')\n",
    "plt.ylabel('Sales')\n",
    "plt.legend()\n",
    "plt.show()\n"
   ]
  },
  {
   "cell_type": "code",
   "execution_count": null,
   "id": "e7a241a3-b7d5-449b-bc30-2a56d01c7623",
   "metadata": {},
   "outputs": [],
   "source": [
    "from sklearn.metrics import mean_squared_error\n",
    "from math import sqrt\n",
    "\n",
    "# Split the data into training and test sets\n",
    "train_size = int(len(data) * 0.8)\n",
    "train, test = data['sales'][:train_size], data['sales'][train_size:]\n",
    "exog_train, exog_test = exog[:train_size], exog[train_size:]\n",
    "\n",
    "# Fit the model on the training data\n",
    "model = ARIMA(endog=train, exog=exog_train, order=(2, 1, 2))\n",
    "model_fit = model.fit()\n",
    "\n",
    "# Make predictions on the test set\n",
    "predictions = model_fit.forecast(steps=len(test), exog=exog_test)\n",
    "\n",
    "# Calculate RMSE\n",
    "rmse = sqrt(mean_squared_error(test, predictions))\n",
    "print(f'Test RMSE: {rmse}')\n",
    "\n",
    "# Plot actual vs predicted sales\n",
    "plt.figure(figsize=(10, 6))\n",
    "plt.plot(test, label='Actual Sales')\n",
    "plt.plot(test.index, predictions, label='Predicted Sales', color='red')\n",
    "plt.title('Actual vs Predicted Sales')\n",
    "plt.xlabel('Date')\n",
    "plt.ylabel('Sales')\n",
    "plt.legend()\n",
    "plt.show()\n"
   ]
  }
 ],
 "metadata": {
  "kernelspec": {
   "display_name": "venv",
   "language": "python",
   "name": "python3"
  },
  "language_info": {
   "codemirror_mode": {
    "name": "ipython",
    "version": 3
   },
   "file_extension": ".py",
   "mimetype": "text/x-python",
   "name": "python",
   "nbconvert_exporter": "python",
   "pygments_lexer": "ipython3",
   "version": "3.12.2"
  }
 },
 "nbformat": 4,
 "nbformat_minor": 5
}
